{
 "cells": [
  {
   "cell_type": "code",
   "execution_count": 2,
   "id": "a4188f60",
   "metadata": {},
   "outputs": [
    {
     "ename": "ModuleNotFoundError",
     "evalue": "No module named 'azure.ai'",
     "output_type": "error",
     "traceback": [
      "\u001b[0;31m---------------------------------------------------------------------------\u001b[0m",
      "\u001b[0;31mModuleNotFoundError\u001b[0m                       Traceback (most recent call last)",
      "Cell \u001b[0;32mIn[2], line 1\u001b[0m\n\u001b[0;32m----> 1\u001b[0m \u001b[38;5;28;01mfrom\u001b[39;00m\u001b[38;5;250m \u001b[39m\u001b[38;5;21;01mazure\u001b[39;00m\u001b[38;5;21;01m.\u001b[39;00m\u001b[38;5;21;01mai\u001b[39;00m\u001b[38;5;21;01m.\u001b[39;00m\u001b[38;5;21;01mml\u001b[39;00m\u001b[38;5;250m \u001b[39m\u001b[38;5;28;01mimport\u001b[39;00m MLClient\n\u001b[1;32m      2\u001b[0m \u001b[38;5;28;01mfrom\u001b[39;00m\u001b[38;5;250m \u001b[39m\u001b[38;5;21;01mazure\u001b[39;00m\u001b[38;5;21;01m.\u001b[39;00m\u001b[38;5;21;01midentity\u001b[39;00m\u001b[38;5;250m \u001b[39m\u001b[38;5;28;01mimport\u001b[39;00m DefaultAzureCredential\n\u001b[1;32m      3\u001b[0m \u001b[38;5;28;01mfrom\u001b[39;00m\u001b[38;5;250m \u001b[39m\u001b[38;5;21;01mazure\u001b[39;00m\u001b[38;5;21;01m.\u001b[39;00m\u001b[38;5;21;01mai\u001b[39;00m\u001b[38;5;21;01m.\u001b[39;00m\u001b[38;5;21;01mml\u001b[39;00m\u001b[38;5;21;01m.\u001b[39;00m\u001b[38;5;21;01mentities\u001b[39;00m\u001b[38;5;250m \u001b[39m\u001b[38;5;28;01mimport\u001b[39;00m Environment, CommandJob\n",
      "\u001b[0;31mModuleNotFoundError\u001b[0m: No module named 'azure.ai'"
     ]
    }
   ],
   "source": [
    "from azure.ai.ml import MLClient, command\n",
    "from azure.identity import DefaultAzureCredential\n",
    "from azure.ai.ml.entities import Environment\n",
    "\n",
    "ml_client = MLClient(\n",
    "    DefaultAzureCredential(),\n",
    "    subscription_id=\"7db2b459-a548-48f4-a984-f75f5bae5548\",\n",
    "    resource_group_name=\"venumadhuri.y-rg\",\n",
    "    workspace_name=\"energy-ml-ws\"\n",
    ")\n",
    "\n",
    "env = Environment(\n",
    "    name=\"arima-env\",\n",
    "    conda_file=\"environment.yml\",\n",
    "    image=\"mcr.microsoft.com/azureml/base:latest\",\n",
    "    description=\"ARIMA forecasting environment\"\n",
    ")\n",
    "\n",
    "env = ml_client.environments.create_or_update(env)\n",
    "\n",
    "job = command(\n",
    "    code=\"./\",\n",
    "    command=\"python energy_forecast_arima.py > output.log 2>&1\",\n",
    "    environment=f\"{env.name}:{env.version}\",\n",
    "    compute=\"arima-instance\",\n",
    "    display_name=\"arima_forecast_job\"\n",
    ")\n",
    "\n",
    "created_job = ml_client.jobs.create_or_update(job)\n",
    "print(f\"Job submitted: {created_job.name}, status: {created_job.status}\")\n"
   ]
  },
  {
   "cell_type": "code",
   "execution_count": null,
   "id": "62257a5a",
   "metadata": {},
   "outputs": [],
   "source": []
  }
 ],
 "metadata": {
  "kernelspec": {
   "display_name": "Python 3 (ipykernel)",
   "language": "python",
   "name": "python3"
  },
  "language_info": {
   "codemirror_mode": {
    "name": "ipython",
    "version": 3
   },
   "file_extension": ".py",
   "mimetype": "text/x-python",
   "name": "python",
   "nbconvert_exporter": "python",
   "pygments_lexer": "ipython3",
   "version": "3.10.16"
  }
 },
 "nbformat": 4,
 "nbformat_minor": 5
}
