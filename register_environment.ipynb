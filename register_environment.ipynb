{
 "cells": [
  {
   "cell_type": "code",
   "execution_count": null,
   "id": "d00aa82c",
   "metadata": {},
   "outputs": [],
   "source": [
    "# register_environment.py\n",
    "\n",
    "from azure.ai.ml import MLClient\n",
    "from azure.identity import DefaultAzureCredential\n",
    "from azure.ai.ml.entities import Environment\n",
    "\n",
    "ml_client = MLClient(\n",
    "    DefaultAzureCredential(),\n",
    "    subscription_id=\"7db2b459-a548-48f4-a984-f75f5bae5548\",\n",
    "    resource_group_name=\"venumadhuri.y-rg\",\n",
    "    workspace_name=\"energy-ml-ws\"\n",
    ")\n",
    "\n",
    "arima_env = Environment(\n",
    "    name=\"arima-env\",\n",
    "    description=\"Environment for ARIMA time series forecasting\",\n",
    "    conda_file=\"environment.yml\",  # This should already exist in your project directory\n",
    "    image=\"mcr.microsoft.com/azureml/openmpi4.1.0-ubuntu20.04:latest\"\n",
    ")\n",
    "\n",
    "ml_client.environments.create_or_update(arima_env)\n"
   ]
  }
 ],
 "metadata": {
  "kernelspec": {
   "display_name": "Python 3 (ipykernel)",
   "language": "python",
   "name": "python3"
  },
  "language_info": {
   "codemirror_mode": {
    "name": "ipython",
    "version": 3
   },
   "file_extension": ".py",
   "mimetype": "text/x-python",
   "name": "python",
   "nbconvert_exporter": "python",
   "pygments_lexer": "ipython3",
   "version": "3.9.7"
  }
 },
 "nbformat": 4,
 "nbformat_minor": 5
}
